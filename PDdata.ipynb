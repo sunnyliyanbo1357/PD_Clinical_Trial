{
 "cells": [
  {
   "cell_type": "code",
   "execution_count": 90,
   "metadata": {
    "collapsed": false
   },
   "outputs": [
    {
     "name": "stdout",
     "output_type": "stream",
     "text": [
      "[188, 172, 164, 186, 201, 174, 184, 180, 192, 183] [129, 136, 151, 128, 139, 143, 153, 122, 138, 144]\n",
      "14\n"
     ]
    }
   ],
   "source": [
    "import numpy as np\n",
    "import pandas as pd\n",
    "HR = pd.read_csv(\"HRhour.csv\")\n",
    "#print HR[\"Heart Rate (count/min)\"]\n",
    "x1=[]\n",
    "x2=[]\n",
    "hr=[]\n",
    "day = pd.read_csv(\"day.csv\")\n",
    "for i in range(0,len(day)):\n",
    "    if (day[\"Tapping\"][i] > 0):\n",
    "        x1.append(day[\"Tapping\"][i])\n",
    "        x2.append(day[\"TappingP\"][i])\n",
    "    if (day[\"Heart Rate (count/min)\"][i]>0):\n",
    "        hr.append(day[\"Heart Rate (count/min)\"][i])\n",
    "\n",
    "print x1,x2\n",
    "print len(hr)"
   ]
  },
  {
   "cell_type": "code",
   "execution_count": 91,
   "metadata": {
    "collapsed": false
   },
   "outputs": [],
   "source": [
    "import matplotlib.pyplot as plt\n",
    "import numpy as np\n",
    "import pylab\n",
    "\n",
    "x = np.arange(10)\n",
    "my_xticks = ['Oct 27','Oct 28','Oct 29','Oct 30','Oct 31','Nov 1','Nov 2','Nov 3','Nov 4','Nov 5']\n",
    "\n",
    "s1 = [100,100,100,100,100,100,100,100,100,100]\n",
    "s2 = [50,50,50,50,50,50,50,50,50,50]\n",
    "s3 = [20,20,20,20,20,20,20,20,20,20]\n",
    "s4 = [10,10,10,10,10,10,10,10,10,10]\n",
    "\n",
    "plt.xticks(x, my_xticks)\n",
    "\n",
    "#plt.gca().set_color_cycle(['blue','green','red','yellow'])\n",
    "\n",
    "plt.plot(x,s1,'r--')\n",
    "plt.plot(x,s2,'y--')\n",
    "plt.plot(x,s3,'b--')\n",
    "plt.plot(x,s4,'g--')\n",
    "plt.plot(x, x1,'bs')\n",
    "plt.plot(x, x2,'g^')\n",
    "plt.plot(x, x1,'b')\n",
    "plt.plot(x, x2,'g')\n",
    "\n",
    "#plt.axhline(y=s1,'r--')\n",
    "\n",
    "plt.legend(['0-Normal','1-Mild slowing','2-Moderately impaired','3-Severely impaired','Sunny','Praveen'], loc='upper left')\n",
    "plt.title(\"Tapping test in last 10 days\")\n",
    "pylab.ylim([0,300])\n",
    "plt.show()\n",
    "#df.plot(kind='box')\n"
   ]
  },
  {
   "cell_type": "code",
   "execution_count": 92,
   "metadata": {
    "collapsed": false
   },
   "outputs": [],
   "source": [
    "x_d = np.arange(len(day[\"Start\"]))\n",
    "x_date = day[\"Start\"]\n",
    "plt.xticks(x, x_date)\n",
    "y_hr = day[\"Heart Rate (count/min)\"]\n",
    "plt.plot(x_d,y_hr)\n",
    "plt.show()"
   ]
  },
  {
   "cell_type": "code",
   "execution_count": 115,
   "metadata": {
    "collapsed": false
   },
   "outputs": [],
   "source": [
    "x_d = np.arange(len(day[\"Start\"]))\n",
    "x_date = day[\"Start\"]\n",
    "x_date = [i[0:-8] for i in x_date]\n",
    "plt.xticks(x_d, x_date)\n",
    "y_hr = day[\"Steps (count)\"]\n",
    "plt.plot(x_d,y_hr,'rs')\n",
    "plt.plot(x_d,y_hr,'r')\n",
    "plt.legend(['Sunny'])\n",
    "plt.title(\"Steps in two weeks\")\n",
    "plt.show()\n"
   ]
  },
  {
   "cell_type": "code",
   "execution_count": 89,
   "metadata": {
    "collapsed": false
   },
   "outputs": [
    {
     "data": {
      "text/plain": [
       "'10/21'"
      ]
     },
     "execution_count": 89,
     "metadata": {},
     "output_type": "execute_result"
    }
   ],
   "source": [
    "x_date[0][0:5]"
   ]
  },
  {
   "cell_type": "code",
   "execution_count": 102,
   "metadata": {
    "collapsed": false
   },
   "outputs": [
    {
     "data": {
      "text/plain": [
       "0      4777\n",
       "1      5945\n",
       "2      7856\n",
       "3      9530\n",
       "4      5119\n",
       "5      5717\n",
       "6      6229\n",
       "7      4967\n",
       "8      8478\n",
       "9     18201\n",
       "10     7422\n",
       "11     4151\n",
       "12     6052\n",
       "13     3344\n",
       "Name: Steps (count), dtype: int64"
      ]
     },
     "execution_count": 102,
     "metadata": {},
     "output_type": "execute_result"
    }
   ],
   "source": [
    "y_hr"
   ]
  },
  {
   "cell_type": "code",
   "execution_count": null,
   "metadata": {
    "collapsed": true
   },
   "outputs": [],
   "source": []
  }
 ],
 "metadata": {
  "kernelspec": {
   "display_name": "Python 2",
   "language": "python",
   "name": "python2"
  },
  "language_info": {
   "codemirror_mode": {
    "name": "ipython",
    "version": 2
   },
   "file_extension": ".py",
   "mimetype": "text/x-python",
   "name": "python",
   "nbconvert_exporter": "python",
   "pygments_lexer": "ipython2",
   "version": "2.7.10"
  }
 },
 "nbformat": 4,
 "nbformat_minor": 0
}
